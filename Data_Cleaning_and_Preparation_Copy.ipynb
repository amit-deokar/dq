{
  "nbformat": 4,
  "nbformat_minor": 0,
  "metadata": {
    "kernelspec": {
      "display_name": "Python 3",
      "language": "python",
      "name": "python3"
    },
    "language_info": {
      "codemirror_mode": {
        "name": "ipython",
        "version": 3
      },
      "file_extension": ".py",
      "mimetype": "text/x-python",
      "name": "python",
      "nbconvert_exporter": "python",
      "pygments_lexer": "ipython3",
      "version": "3.7.4"
    },
    "colab": {
      "name": "Data Cleaning and Preparation Copy.ipynb",
      "provenance": [],
      "collapsed_sections": [],
      "include_colab_link": true
    }
  },
  "cells": [
    {
      "cell_type": "markdown",
      "metadata": {
        "id": "view-in-github",
        "colab_type": "text"
      },
      "source": [
        "<a href=\"https://colab.research.google.com/github/amit-deokar/dq/blob/master/Data_Cleaning_and_Preparation_Copy.ipynb\" target=\"_parent\"><img src=\"https://colab.research.google.com/assets/colab-badge.svg\" alt=\"Open In Colab\"/></a>"
      ]
    },
    {
      "cell_type": "markdown",
      "metadata": {
        "deletable": true,
        "editable": true,
        "id": "ouRyUPmKeiji",
        "colab_type": "text"
      },
      "source": [
        "# Chapter 7: Data Cleaning and Preparation"
      ]
    },
    {
      "cell_type": "markdown",
      "metadata": {
        "colab_type": "text",
        "id": "cxUzgCOBiJVR"
      },
      "source": [
        "Author: Amit Deokar, Ph.D.\n",
        "\n",
        "Based on: \\\n",
        "*Chapter 7: Data Cleaning and Preparation*, **Python for Data Analysis (2nd Edition)** by **Wes McKinney**"
      ]
    },
    {
      "cell_type": "code",
      "metadata": {
        "deletable": true,
        "editable": true,
        "jupyter": {
          "outputs_hidden": false
        },
        "id": "BX41m9xKeijs",
        "colab_type": "code",
        "colab": {}
      },
      "source": [
        "import numpy as np\n",
        "np.random.seed(12345)\n",
        "np.set_printoptions(precision=4, suppress=True)\n",
        "\n",
        "import pandas as pd\n",
        "PREVIOUS_MAX_ROWS = pd.options.display.max_rows\n",
        "pd.options.display.max_rows = 20\n",
        "\n",
        "import matplotlib.pyplot as plt\n",
        "plt.rc('figure', figsize=(10, 6))"
      ],
      "execution_count": 0,
      "outputs": []
    },
    {
      "cell_type": "code",
      "metadata": {
        "id": "AWp9PCOCeij7",
        "colab_type": "code",
        "colab": {}
      },
      "source": [
        "pd.__version__"
      ],
      "execution_count": 0,
      "outputs": []
    },
    {
      "cell_type": "code",
      "metadata": {
        "id": "70y74dpQeikF",
        "colab_type": "code",
        "colab": {}
      },
      "source": [
        "!pip install -U pandas"
      ],
      "execution_count": 0,
      "outputs": []
    },
    {
      "cell_type": "markdown",
      "metadata": {
        "deletable": true,
        "editable": true,
        "id": "haZUt4jneikN",
        "colab_type": "text"
      },
      "source": [
        "## 7.1 Handling Missing Data\n",
        "\n",
        "**Pandas Documentation for [Working with Missing Data](https://pandas.pydata.org/pandas-docs/stable/user_guide/missing_data.html)**"
      ]
    },
    {
      "cell_type": "markdown",
      "metadata": {
        "id": "Fhu6e7hAeikR",
        "colab_type": "text"
      },
      "source": [
        "For numeric data, pandas uses the floating-point value `NaN` (Not a Number) to represent missing data. It is called a **sentinel value** that can be easily detected:"
      ]
    },
    {
      "cell_type": "code",
      "metadata": {
        "deletable": true,
        "editable": true,
        "jupyter": {
          "outputs_hidden": false
        },
        "id": "vZ0zFC05eikT",
        "colab_type": "code",
        "colab": {}
      },
      "source": [
        "string_data = pd.Series(['aardvark', 'artichoke', np.nan, 'avocado'])"
      ],
      "execution_count": 0,
      "outputs": []
    },
    {
      "cell_type": "code",
      "metadata": {
        "id": "OBOkBYJ4eikb",
        "colab_type": "code",
        "colab": {}
      },
      "source": [
        "string_data"
      ],
      "execution_count": 0,
      "outputs": []
    },
    {
      "cell_type": "code",
      "metadata": {
        "id": "KPcTOuH6eikh",
        "colab_type": "code",
        "colab": {}
      },
      "source": [
        "string_data.isnull()"
      ],
      "execution_count": 0,
      "outputs": []
    },
    {
      "cell_type": "markdown",
      "metadata": {
        "id": "nVfc9moVeikp",
        "colab_type": "text"
      },
      "source": [
        "- Pandas adopts a convention used in the R programming language by referring to missing data as **NA**, which stands for *not available*. \n",
        "- In statistics applications, NA data may either be data that *does not exist* or that *exists but was not observed* (through problems with data collection, for example). \n",
        "- When cleaning up data for analysis, it is often important to do analysis on the missing data itself to identify data collection problems or potential biases in the data caused by missing data."
      ]
    },
    {
      "cell_type": "markdown",
      "metadata": {
        "id": "BN_318Jweikr",
        "colab_type": "text"
      },
      "source": [
        "#### NA handling methods\n",
        "- `dropna()`: Filter axis labels based on whether values for each label have missing data, with varying thresholds for how much missing data to tolerate.\n",
        "- `fillna()`: Fill in missing data with some value or using an interpolation method such as `ffill` or `bfill`.\n",
        "- `isnull()`: Return boolean values indicating which values are missing/NA.\n",
        "- `notnull()`: Negation of `isnull`."
      ]
    },
    {
      "cell_type": "markdown",
      "metadata": {
        "id": "hndwlwkoeiku",
        "colab_type": "text"
      },
      "source": [
        "#### None (Pythonic missing data) vs NaN (Missing numerical data)\n",
        "The built-in Python `None` value is also treated as NA in object arrays. \n",
        "- Since `None` is a Python object, it cannot be used in any arbitrary NumPy/Pandas array, but only in arrays with data type `'object'`. (i.e., arrays of Python objects).\n",
        "- `dtype = object` means that the best common type representation NumPy could infer for the contents of the array is that they are Python objects.\n",
        "- While this kind of object array is useful for some purposes, any operations on the data will be done at the Python level, with much more overhead than the typically fast operations seen for arrays with native types.\n",
        "\n",
        "Reference: [Handling Missing Data](https://jakevdp.github.io/PythonDataScienceHandbook/03.04-missing-values.html) by Jake VanderPlas"
      ]
    },
    {
      "cell_type": "code",
      "metadata": {
        "id": "IlhrQsaXeikw",
        "colab_type": "code",
        "colab": {}
      },
      "source": [
        "for dtype in ['object', 'int']:\n",
        "    print(\"dtype =\", dtype)\n",
        "    %timeit np.arange(1E6, dtype=dtype).sum()\n",
        "    print()"
      ],
      "execution_count": 0,
      "outputs": []
    },
    {
      "cell_type": "markdown",
      "metadata": {
        "id": "VJ1OZv4eeik4",
        "colab_type": "text"
      },
      "source": [
        "- The use of Python objects in an array also means that if you perform aggregations like `sum()` or `min()` across an array with a `None` value, you will generally get an error:"
      ]
    },
    {
      "cell_type": "code",
      "metadata": {
        "id": "TgrXatNXeik6",
        "colab_type": "code",
        "colab": {}
      },
      "source": [
        "vals1 = np.array([1, None, 3, 4])\n",
        "vals1"
      ],
      "execution_count": 0,
      "outputs": []
    },
    {
      "cell_type": "code",
      "metadata": {
        "id": "rZ61tYZweilD",
        "colab_type": "code",
        "colab": {}
      },
      "source": [
        "#vals1.sum() # gives error"
      ],
      "execution_count": 0,
      "outputs": []
    },
    {
      "cell_type": "markdown",
      "metadata": {
        "id": "Hee9sq3MeilM",
        "colab_type": "text"
      },
      "source": [
        "This reflects the fact that addition between an integer and `None` is undefined."
      ]
    },
    {
      "cell_type": "markdown",
      "metadata": {
        "id": "g8ZxxyUweilP",
        "colab_type": "text"
      },
      "source": [
        "However, object arrays with a `None` value can be used to check for missing values using methods like `isnull()` and `notnull()`."
      ]
    },
    {
      "cell_type": "code",
      "metadata": {
        "id": "iowzGBp-eilR",
        "colab_type": "code",
        "colab": {}
      },
      "source": [
        "string_data.dtype"
      ],
      "execution_count": 0,
      "outputs": []
    },
    {
      "cell_type": "code",
      "metadata": {
        "deletable": true,
        "editable": true,
        "jupyter": {
          "outputs_hidden": false
        },
        "id": "Jq0Lp7LCeilW",
        "colab_type": "code",
        "colab": {}
      },
      "source": [
        "string_data[0] = None"
      ],
      "execution_count": 0,
      "outputs": []
    },
    {
      "cell_type": "code",
      "metadata": {
        "id": "3fCpZN47eild",
        "colab_type": "code",
        "colab": {}
      },
      "source": [
        "string_data.isnull()"
      ],
      "execution_count": 0,
      "outputs": []
    },
    {
      "cell_type": "markdown",
      "metadata": {
        "id": "_OVm_6_Zeilj",
        "colab_type": "text"
      },
      "source": [
        "#### NaN and None in Pandas\n",
        "\n",
        "Reference: [Handling Missing Data](https://jakevdp.github.io/PythonDataScienceHandbook/03.04-missing-values.html) by Jake VanderPlas"
      ]
    },
    {
      "cell_type": "markdown",
      "metadata": {
        "id": "avU9e2dyeill",
        "colab_type": "text"
      },
      "source": [
        "`NaN` and `None` both have their place, and Pandas is built to handle the two of them nearly interchangeably, converting between them where appropriate:"
      ]
    },
    {
      "cell_type": "code",
      "metadata": {
        "id": "9njiioeGeilo",
        "colab_type": "code",
        "colab": {}
      },
      "source": [
        "pd.Series([1, np.nan, 2, None])"
      ],
      "execution_count": 0,
      "outputs": []
    },
    {
      "cell_type": "markdown",
      "metadata": {
        "id": "ymrg7Xzbeils",
        "colab_type": "text"
      },
      "source": [
        "For types that don't have an available sentinel value, Pandas automatically type-casts when NA values are present. For example, if we set a value in an integer array to `np.nan`, it will automatically be upcast to a floating-point type to accommodate the NA:"
      ]
    },
    {
      "cell_type": "code",
      "metadata": {
        "id": "WGN1ah6Weilu",
        "colab_type": "code",
        "colab": {}
      },
      "source": [
        "x = pd.Series(range(2), dtype=int)\n",
        "x"
      ],
      "execution_count": 0,
      "outputs": []
    },
    {
      "cell_type": "code",
      "metadata": {
        "id": "SLAnDUiveily",
        "colab_type": "code",
        "colab": {}
      },
      "source": [
        "x[0] = None\n",
        "x"
      ],
      "execution_count": 0,
      "outputs": []
    },
    {
      "cell_type": "markdown",
      "metadata": {
        "id": "_O4Gw0U4eil5",
        "colab_type": "text"
      },
      "source": [
        "Notice that in addition to casting the integer array to floating point, Pandas automatically converts the `None` to a `NaN` value.\n",
        "\n",
        "There is an experimental feature in pandas version 1.0.1 as described in the **Pandas Documentation for [Working with Missing Data](https://pandas.pydata.org/pandas-docs/stable/user_guide/missing_data.html)**\n",
        "\n",
        "> - Starting from pandas 1.0, an experimental `pd.NA` value (singleton) is available to represent scalar missing values. At this moment, it is used in the nullable integer, boolean and dedicated string data types as the missing value indicator.\n",
        "> - The goal of `pd.NA` is provide a “missing” indicator that can be used consistently across data types (instead of `np.nan`, `None` or `pd.NaT` depending on the data type)."
      ]
    },
    {
      "cell_type": "code",
      "metadata": {
        "id": "r8Utffnzeil5",
        "colab_type": "code",
        "colab": {}
      },
      "source": [
        "s = pd.Series([1, 2, None], dtype=\"Int64\")\n",
        "s"
      ],
      "execution_count": 0,
      "outputs": []
    },
    {
      "cell_type": "markdown",
      "metadata": {
        "id": "7dUlmsjfeil_",
        "colab_type": "text"
      },
      "source": [
        "From the **Pandas Documentation for [Working with Missing Data](https://pandas.pydata.org/pandas-docs/stable/user_guide/missing_data.html)**: \n",
        "\n",
        "> Currently, pandas does not yet use those data types by default (when creating a DataFrame or Series, or when reading in data), so you need to specify the dtype explicitly. An easy way to convert to those dtypes is explained [here](https://pandas.pydata.org/pandas-docs/stable/user_guide/missing_data.html#missing-data-na-conversion).\n",
        "\n",
        "> - If you have a DataFrame or Series using traditional types that have missing data represented using `np.nan`, there are convenience methods [`convert_dtypes()`](https://pandas.pydata.org/pandas-docs/stable/reference/api/pandas.DataFrame.convert_dtypes.html#pandas.DataFrame.convert_dtypes) in Series and [`convert_dtypes()`](https://pandas.pydata.org/pandas-docs/stable/reference/api/pandas.DataFrame.convert_dtypes.html#pandas.DataFrame.convert_dtypes) in DataFrame that can convert data to use the newer dtypes for integers, strings and booleans listed [here](https://pandas.pydata.org/pandas-docs/stable/getting_started/basics.html#basics-dtypes). \n",
        "> - This is especially helpful after reading in data sets when letting the readers such as `read_csv()` and `read_excel()` infer default dtypes."
      ]
    },
    {
      "cell_type": "code",
      "metadata": {
        "id": "e1DcEMHpeil_",
        "colab_type": "code",
        "colab": {}
      },
      "source": [
        "x.convert_dtypes()"
      ],
      "execution_count": 0,
      "outputs": []
    },
    {
      "cell_type": "markdown",
      "metadata": {
        "deletable": true,
        "editable": true,
        "id": "TCG2ze2neimF",
        "colab_type": "text"
      },
      "source": [
        "### Filtering Out Missing Data"
      ]
    },
    {
      "cell_type": "markdown",
      "metadata": {
        "id": "V7oTByrEeimG",
        "colab_type": "text"
      },
      "source": [
        "While you always have the option to do it by hand using `pandas.isnull()` and boolean indexing, `dropna()` can be helpful."
      ]
    },
    {
      "cell_type": "markdown",
      "metadata": {
        "id": "vdZPsNnYeimI",
        "colab_type": "text"
      },
      "source": [
        "#### For Series:"
      ]
    },
    {
      "cell_type": "code",
      "metadata": {
        "deletable": true,
        "editable": true,
        "jupyter": {
          "outputs_hidden": false
        },
        "id": "0b_eh37ZeimJ",
        "colab_type": "code",
        "colab": {}
      },
      "source": [
        "from numpy import nan as NA\n",
        "\n",
        "data = pd.Series([1, NA, 3.5, NA, 7]) # alternatively, import numpy as np, and then use, data = pd.Series([1, np.nan, 3.5, np.nan, 7])"
      ],
      "execution_count": 0,
      "outputs": []
    },
    {
      "cell_type": "code",
      "metadata": {
        "id": "pYA1tgJseimN",
        "colab_type": "code",
        "colab": {}
      },
      "source": [
        "data"
      ],
      "execution_count": 0,
      "outputs": []
    },
    {
      "cell_type": "markdown",
      "metadata": {
        "id": "Aqct_TzWeimR",
        "colab_type": "text"
      },
      "source": [
        "To filter out rows that contain missing values:"
      ]
    },
    {
      "cell_type": "code",
      "metadata": {
        "id": "Ev97PrIteimS",
        "colab_type": "code",
        "colab": {}
      },
      "source": [
        "data.dropna()"
      ],
      "execution_count": 0,
      "outputs": []
    },
    {
      "cell_type": "markdown",
      "metadata": {
        "id": "mYvlcsDzeimW",
        "colab_type": "text"
      },
      "source": [
        "To filter out rows that contain missing values (alternative way):"
      ]
    },
    {
      "cell_type": "code",
      "metadata": {
        "deletable": true,
        "editable": true,
        "jupyter": {
          "outputs_hidden": false
        },
        "id": "_nl5oTDMeimX",
        "colab_type": "code",
        "colab": {}
      },
      "source": [
        "data[data.notnull()]"
      ],
      "execution_count": 0,
      "outputs": []
    },
    {
      "cell_type": "markdown",
      "metadata": {
        "id": "llnM_vBHeimb",
        "colab_type": "text"
      },
      "source": [
        "To select rows that contain missing values:"
      ]
    },
    {
      "cell_type": "code",
      "metadata": {
        "id": "aSI-ARMMeime",
        "colab_type": "code",
        "colab": {}
      },
      "source": [
        "data[data.isnull()]"
      ],
      "execution_count": 0,
      "outputs": []
    },
    {
      "cell_type": "markdown",
      "metadata": {
        "id": "svzHHX5yeimj",
        "colab_type": "text"
      },
      "source": [
        "#### For DataFrames:"
      ]
    },
    {
      "cell_type": "code",
      "metadata": {
        "deletable": true,
        "editable": true,
        "jupyter": {
          "outputs_hidden": false
        },
        "id": "Km--VnlKeimk",
        "colab_type": "code",
        "colab": {}
      },
      "source": [
        "from numpy import nan as NA\n",
        "data = pd.DataFrame([[1., 6.5, 3.], [1., NA, NA],\n",
        "                     [NA, NA, NA], [NA, 6.5, 3.]])"
      ],
      "execution_count": 0,
      "outputs": []
    },
    {
      "cell_type": "code",
      "metadata": {
        "id": "OLOktdM8eimn",
        "colab_type": "code",
        "colab": {}
      },
      "source": [
        "data"
      ],
      "execution_count": 0,
      "outputs": []
    },
    {
      "cell_type": "markdown",
      "metadata": {
        "id": "7GMNuHTSeimr",
        "colab_type": "text"
      },
      "source": [
        "`dropna` by default drops any row containing a missing value:"
      ]
    },
    {
      "cell_type": "code",
      "metadata": {
        "id": "p-iXEaKseims",
        "colab_type": "code",
        "colab": {}
      },
      "source": [
        "cleaned = data.dropna()"
      ],
      "execution_count": 0,
      "outputs": []
    },
    {
      "cell_type": "code",
      "metadata": {
        "id": "LJZ_b-e-eimv",
        "colab_type": "code",
        "colab": {}
      },
      "source": [
        "cleaned"
      ],
      "execution_count": 0,
      "outputs": []
    },
    {
      "cell_type": "markdown",
      "metadata": {
        "id": "OFCr5l1Weimz",
        "colab_type": "text"
      },
      "source": [
        "Passing `how='all'` will only drop rows that are all NA:"
      ]
    },
    {
      "cell_type": "code",
      "metadata": {
        "deletable": true,
        "editable": true,
        "jupyter": {
          "outputs_hidden": false
        },
        "id": "tzZZS3xbeim0",
        "colab_type": "code",
        "colab": {}
      },
      "source": [
        "data.dropna(how='all')"
      ],
      "execution_count": 0,
      "outputs": []
    },
    {
      "cell_type": "markdown",
      "metadata": {
        "id": "M35zwIWBeim4",
        "colab_type": "text"
      },
      "source": [
        "To drop columns that are all NA, pass `axis=1` along with `how='all'`:"
      ]
    },
    {
      "cell_type": "code",
      "metadata": {
        "deletable": true,
        "editable": true,
        "jupyter": {
          "outputs_hidden": false
        },
        "id": "BhmiuyWleim5",
        "colab_type": "code",
        "colab": {}
      },
      "source": [
        "data[4] = NA"
      ],
      "execution_count": 0,
      "outputs": []
    },
    {
      "cell_type": "code",
      "metadata": {
        "id": "CPo_Yy9teim9",
        "colab_type": "code",
        "colab": {}
      },
      "source": [
        "data"
      ],
      "execution_count": 0,
      "outputs": []
    },
    {
      "cell_type": "code",
      "metadata": {
        "id": "tTRgCtPOeinB",
        "colab_type": "code",
        "colab": {}
      },
      "source": [
        "data.dropna(axis=1, how='all')"
      ],
      "execution_count": 0,
      "outputs": []
    },
    {
      "cell_type": "markdown",
      "metadata": {
        "id": "IMLnKAfFeinE",
        "colab_type": "text"
      },
      "source": [
        "To keep only rows containing a certain number of observations, use the `thresh` (require those many non-NA values) argument:"
      ]
    },
    {
      "cell_type": "code",
      "metadata": {
        "deletable": true,
        "editable": true,
        "jupyter": {
          "outputs_hidden": false
        },
        "id": "L1Tmcs2leinF",
        "colab_type": "code",
        "colab": {}
      },
      "source": [
        "df = pd.DataFrame(np.random.randn(7, 3))\n",
        "df.iloc[:4, 1] = NA\n",
        "df.iloc[:2, 2] = NA\n",
        "df"
      ],
      "execution_count": 0,
      "outputs": []
    },
    {
      "cell_type": "code",
      "metadata": {
        "id": "wCB5WzZNeinI",
        "colab_type": "code",
        "colab": {}
      },
      "source": [
        "df.dropna()"
      ],
      "execution_count": 0,
      "outputs": []
    },
    {
      "cell_type": "code",
      "metadata": {
        "id": "E6QJAIlAeinL",
        "colab_type": "code",
        "colab": {}
      },
      "source": [
        "df.dropna(thresh=2)"
      ],
      "execution_count": 0,
      "outputs": []
    },
    {
      "cell_type": "markdown",
      "metadata": {
        "deletable": true,
        "editable": true,
        "id": "M5x4oYT3einR",
        "colab_type": "text"
      },
      "source": [
        "### Filling In Missing Data\n",
        "\n",
        "- Rather than filtering out missing data (and potentially discarding other data along with it), you may want to fill in the “holes” in any number of ways."
      ]
    },
    {
      "cell_type": "code",
      "metadata": {
        "deletable": true,
        "editable": true,
        "jupyter": {
          "outputs_hidden": false
        },
        "id": "4pzH4-B3einS",
        "colab_type": "code",
        "colab": {}
      },
      "source": [
        "df.fillna(0)"
      ],
      "execution_count": 0,
      "outputs": []
    },
    {
      "cell_type": "markdown",
      "metadata": {
        "id": "v5GD6FRaeinV",
        "colab_type": "text"
      },
      "source": [
        "- Calling `fillna` with a dict, you can use a different fill value for each column:"
      ]
    },
    {
      "cell_type": "code",
      "metadata": {
        "deletable": true,
        "editable": true,
        "jupyter": {
          "outputs_hidden": false
        },
        "id": "7o0jyJ0CeinX",
        "colab_type": "code",
        "colab": {}
      },
      "source": [
        "df.fillna({1: 0.5, 2: 0})"
      ],
      "execution_count": 0,
      "outputs": []
    },
    {
      "cell_type": "markdown",
      "metadata": {
        "id": "8siGPhw9einc",
        "colab_type": "text"
      },
      "source": [
        "- `fillna` returns a new object, but you can modify the existing object in-place:"
      ]
    },
    {
      "cell_type": "code",
      "metadata": {
        "deletable": true,
        "editable": true,
        "jupyter": {
          "outputs_hidden": false
        },
        "id": "0b_8g8yoeind",
        "colab_type": "code",
        "colab": {}
      },
      "source": [
        "_ = df.fillna(0, inplace=True)\n",
        "df"
      ],
      "execution_count": 0,
      "outputs": []
    },
    {
      "cell_type": "markdown",
      "metadata": {
        "id": "td_dA01Ceinx",
        "colab_type": "text"
      },
      "source": [
        "The same interpolation methods available for reindexing can be used with `fillna`.\n",
        "\n",
        "#### `fillna` function arguments\n",
        "- `value`: Scalar value or dict-like object to use to fill missing values\n",
        "- `method`: Interpolation; by default `'ffill'` if function called with no other arguments\n",
        "- `axis`: Axis to fill on; default `axis=0`\n",
        "- `inplace`: Modify the calling object without producing a copy\n",
        "- `limit`: For forward and backward filling, maximum number of consecutive periods to fill"
      ]
    },
    {
      "cell_type": "code",
      "metadata": {
        "deletable": true,
        "editable": true,
        "jupyter": {
          "outputs_hidden": false
        },
        "id": "tZimoYcveiny",
        "colab_type": "code",
        "colab": {}
      },
      "source": [
        "df = pd.DataFrame(np.random.randn(6, 3))\n",
        "df.iloc[2:, 1] = NA\n",
        "df.iloc[4:, 2] = NA\n",
        "df"
      ],
      "execution_count": 0,
      "outputs": []
    },
    {
      "cell_type": "code",
      "metadata": {
        "id": "Ptkh3th1ein1",
        "colab_type": "code",
        "colab": {}
      },
      "source": [
        "df.fillna(method='ffill')"
      ],
      "execution_count": 0,
      "outputs": []
    },
    {
      "cell_type": "code",
      "metadata": {
        "id": "8DoCHvVLein4",
        "colab_type": "code",
        "colab": {}
      },
      "source": [
        "df.fillna(method='ffill', limit=2)"
      ],
      "execution_count": 0,
      "outputs": []
    },
    {
      "cell_type": "markdown",
      "metadata": {
        "id": "rlMyCjOfein7",
        "colab_type": "text"
      },
      "source": [
        "With `fillna` you can do lots of other things with a little creativity. For example, you might pass the mean or median value of a Series:"
      ]
    },
    {
      "cell_type": "code",
      "metadata": {
        "deletable": true,
        "editable": true,
        "jupyter": {
          "outputs_hidden": false
        },
        "id": "kDf7xesRein9",
        "colab_type": "code",
        "colab": {}
      },
      "source": [
        "data = pd.Series([1., NA, 3.5, NA, 7])\n",
        "data"
      ],
      "execution_count": 0,
      "outputs": []
    },
    {
      "cell_type": "code",
      "metadata": {
        "id": "R4N8GYznein_",
        "colab_type": "code",
        "colab": {}
      },
      "source": [
        "data.fillna(data.mean())"
      ],
      "execution_count": 0,
      "outputs": []
    },
    {
      "cell_type": "markdown",
      "metadata": {
        "deletable": true,
        "editable": true,
        "id": "jyKKazmjeioC",
        "colab_type": "text"
      },
      "source": [
        "## 7.2 Data Transformation"
      ]
    },
    {
      "cell_type": "markdown",
      "metadata": {
        "deletable": true,
        "editable": true,
        "id": "Ebaxj75deioD",
        "colab_type": "text"
      },
      "source": [
        "### Removing Duplicates"
      ]
    },
    {
      "cell_type": "code",
      "metadata": {
        "deletable": true,
        "editable": true,
        "jupyter": {
          "outputs_hidden": false
        },
        "id": "0LOkSdkheioE",
        "colab_type": "code",
        "colab": {}
      },
      "source": [
        "data = pd.DataFrame({'k1': ['one', 'two'] * 3 + ['two'],\n",
        "                     'k2': [1, 1, 2, 3, 3, 4, 4]})\n",
        "data"
      ],
      "execution_count": 0,
      "outputs": []
    },
    {
      "cell_type": "code",
      "metadata": {
        "deletable": true,
        "editable": true,
        "jupyter": {
          "outputs_hidden": false
        },
        "id": "cnyScO5TeioH",
        "colab_type": "code",
        "colab": {}
      },
      "source": [
        "data.duplicated() # checks if each row is a duplicate (has been observed in a previous row)"
      ],
      "execution_count": 0,
      "outputs": []
    },
    {
      "cell_type": "code",
      "metadata": {
        "deletable": true,
        "editable": true,
        "jupyter": {
          "outputs_hidden": false
        },
        "id": "6n4vrfwYeioK",
        "colab_type": "code",
        "colab": {}
      },
      "source": [
        "data.drop_duplicates()"
      ],
      "execution_count": 0,
      "outputs": []
    },
    {
      "cell_type": "markdown",
      "metadata": {
        "id": "fKImqqvjeioO",
        "colab_type": "text"
      },
      "source": [
        "Both of these methods by default consider all of the columns."
      ]
    },
    {
      "cell_type": "code",
      "metadata": {
        "deletable": true,
        "editable": true,
        "jupyter": {
          "outputs_hidden": false
        },
        "id": "Mak15W-ReioP",
        "colab_type": "code",
        "colab": {}
      },
      "source": [
        "data['v1'] = range(7)\n",
        "data"
      ],
      "execution_count": 0,
      "outputs": []
    },
    {
      "cell_type": "markdown",
      "metadata": {
        "id": "_15I6ZuZeioT",
        "colab_type": "text"
      },
      "source": [
        "- You can specify any subset of columns to detect duplicates."
      ]
    },
    {
      "cell_type": "code",
      "metadata": {
        "id": "JlRPipFgeioT",
        "colab_type": "code",
        "colab": {}
      },
      "source": [
        "data.drop_duplicates(['k1']) # filter duplicates only based on 'k1' column"
      ],
      "execution_count": 0,
      "outputs": []
    },
    {
      "cell_type": "markdown",
      "metadata": {
        "id": "wCdBhj95eioa",
        "colab_type": "text"
      },
      "source": [
        "- Passing `keep='last'` will return the last duplicate row."
      ]
    },
    {
      "cell_type": "code",
      "metadata": {
        "deletable": true,
        "editable": true,
        "jupyter": {
          "outputs_hidden": false
        },
        "id": "UcmDgn-Peioa",
        "colab_type": "code",
        "colab": {}
      },
      "source": [
        "data.drop_duplicates(['k1', 'k2'], keep='last')"
      ],
      "execution_count": 0,
      "outputs": []
    },
    {
      "cell_type": "markdown",
      "metadata": {
        "deletable": true,
        "editable": true,
        "id": "9itbktL7eiod",
        "colab_type": "text"
      },
      "source": [
        "### Transforming Data Using a Function or Mapping"
      ]
    },
    {
      "cell_type": "code",
      "metadata": {
        "id": "cbppaQcyeioe",
        "colab_type": "code",
        "colab": {}
      },
      "source": [
        "sales = {\n",
        "    \"month\": [\"Jan\", \"Feb\", \"Mar\", \"Apr\", \"May\", \"Jun\", \"Jul\", \"Aug\", \"Sep\", \"Oct\", \"Nov\", \"Dec\"],\n",
        "    \"candy\" : [134, 65, 89 ,24, 45, 23, 27, 88, 45, 90, 101, 120],\n",
        "    \"sugar\" : [110.0, 45.0, None, 77.0, None, 50.0, 77.0, None, 80.0, 11.0, 90.0, 115.0],\n",
        "    \"cookies\" : [119, 78, 56, 45, 33, 91, 67, 47, 19, 97, 111, 129]\n",
        "}\n",
        "\n",
        "data = pd.DataFrame(sales)\n",
        "data"
      ],
      "execution_count": 0,
      "outputs": []
    },
    {
      "cell_type": "code",
      "metadata": {
        "id": "VUtOX03Keioh",
        "colab_type": "code",
        "colab": {}
      },
      "source": [
        "month_to_emp = {\n",
        "    'jan': 'Anita',\n",
        "    'feb': 'Raghu',\n",
        "    'mar': 'Kavita',\n",
        "    'apr': 'Matt',\n",
        "    'may': 'Amy',\n",
        "    'jun': 'Anita',\n",
        "    'jul': 'Raghu',\n",
        "    'aug': 'Anita',\n",
        "    'sep': 'Kavita',\n",
        "    'oct': 'Martha',\n",
        "    'nov': 'Amy',\n",
        "    'dec': 'Raghu'\n",
        "}"
      ],
      "execution_count": 0,
      "outputs": []
    },
    {
      "cell_type": "code",
      "metadata": {
        "id": "xd9AVzkUeioj",
        "colab_type": "code",
        "colab": {}
      },
      "source": [
        "lowercased = data['month'].str.lower()\n",
        "lowercased"
      ],
      "execution_count": 0,
      "outputs": []
    },
    {
      "cell_type": "markdown",
      "metadata": {
        "id": "C_p04e09eion",
        "colab_type": "text"
      },
      "source": [
        "- Using `map` is a convenient way to perform element-wise transformations and other data cleaning–related operations.\n",
        "- The `map` method on a Series accepts a function or dict-like object containing a mapping."
      ]
    },
    {
      "cell_type": "code",
      "metadata": {
        "id": "zTMyt0m7eioo",
        "colab_type": "code",
        "colab": {}
      },
      "source": [
        "data['emp'] = lowercased.map(month_to_emp)\n",
        "data"
      ],
      "execution_count": 0,
      "outputs": []
    },
    {
      "cell_type": "code",
      "metadata": {
        "deletable": true,
        "editable": true,
        "jupyter": {
          "outputs_hidden": false
        },
        "id": "f24k-VoSeior",
        "colab_type": "code",
        "colab": {}
      },
      "source": [
        "data['month'].map(lambda x: month_to_emp[x.lower()])\n",
        "data"
      ],
      "execution_count": 0,
      "outputs": []
    },
    {
      "cell_type": "markdown",
      "metadata": {
        "deletable": true,
        "editable": true,
        "id": "ls261waleiov",
        "colab_type": "text"
      },
      "source": [
        "### Replacing Values\n",
        "\n",
        "- Filling in missing data with the `fillna` method is a special case of more general value replacement. \n",
        "- As you’ve already seen, map can be used to modify a subset of values in an object but `replace` provides a simpler and more flexible way to do so.\n",
        "- `replace` produces a new Series (unless you pass `inplace=True`)."
      ]
    },
    {
      "cell_type": "code",
      "metadata": {
        "deletable": true,
        "editable": true,
        "jupyter": {
          "outputs_hidden": false
        },
        "id": "4L8rRoE1eiov",
        "colab_type": "code",
        "colab": {}
      },
      "source": [
        "data = pd.Series([1., -999., 2., -999., -1000., 3.])\n",
        "data"
      ],
      "execution_count": 0,
      "outputs": []
    },
    {
      "cell_type": "code",
      "metadata": {
        "deletable": true,
        "editable": true,
        "jupyter": {
          "outputs_hidden": false
        },
        "id": "XXib1X1Aeioy",
        "colab_type": "code",
        "colab": {}
      },
      "source": [
        "data.replace(-999, np.nan) # The -999 values might be sentinel values for missing data."
      ],
      "execution_count": 0,
      "outputs": []
    },
    {
      "cell_type": "markdown",
      "metadata": {
        "id": "bYoQ5Ph0eio2",
        "colab_type": "text"
      },
      "source": [
        "To replace multiple values at once, you instead pass a list and then the substitute value:"
      ]
    },
    {
      "cell_type": "code",
      "metadata": {
        "deletable": true,
        "editable": true,
        "jupyter": {
          "outputs_hidden": false
        },
        "id": "i3HOU95leio2",
        "colab_type": "code",
        "colab": {}
      },
      "source": [
        "data.replace([-999, -1000], np.nan)"
      ],
      "execution_count": 0,
      "outputs": []
    },
    {
      "cell_type": "markdown",
      "metadata": {
        "id": "HJfxGb-Reio5",
        "colab_type": "text"
      },
      "source": [
        "To use a different replacement for each value, pass a list of substitutes:"
      ]
    },
    {
      "cell_type": "code",
      "metadata": {
        "deletable": true,
        "editable": true,
        "jupyter": {
          "outputs_hidden": false
        },
        "id": "xIGQjOhkeio5",
        "colab_type": "code",
        "colab": {}
      },
      "source": [
        "data.replace([-999, -1000], [np.nan, 0])"
      ],
      "execution_count": 0,
      "outputs": []
    },
    {
      "cell_type": "markdown",
      "metadata": {
        "id": "z5GggyLpeio9",
        "colab_type": "text"
      },
      "source": [
        "The argument passed can also be a dict:"
      ]
    },
    {
      "cell_type": "code",
      "metadata": {
        "deletable": true,
        "editable": true,
        "jupyter": {
          "outputs_hidden": false
        },
        "id": "aNHo_okTeio9",
        "colab_type": "code",
        "colab": {}
      },
      "source": [
        "data.replace({-999: np.nan, -1000: 0})"
      ],
      "execution_count": 0,
      "outputs": []
    },
    {
      "cell_type": "markdown",
      "metadata": {
        "deletable": true,
        "editable": true,
        "id": "UZitc5IxeipB",
        "colab_type": "text"
      },
      "source": [
        "### Renaming Axis Indexes\n",
        "\n",
        "- Like values in a Series, axis labels can be similarly transformed by a function or mapping of some form to produce new, differently labeled objects.\n",
        "- Again, use `inplace=True` for modifying in-place without creating a new data structure."
      ]
    },
    {
      "cell_type": "code",
      "metadata": {
        "deletable": true,
        "editable": true,
        "jupyter": {
          "outputs_hidden": false
        },
        "id": "jOM9L_UVeipD",
        "colab_type": "code",
        "colab": {}
      },
      "source": [
        "data = pd.DataFrame(np.arange(12).reshape((3, 4)),\n",
        "                    index=['Ohio', 'Colorado', 'New York'],\n",
        "                    columns=['one', 'two', 'three', 'four'])\n",
        "data"
      ],
      "execution_count": 0,
      "outputs": []
    },
    {
      "cell_type": "code",
      "metadata": {
        "id": "klXk9a0aeipG",
        "colab_type": "code",
        "colab": {}
      },
      "source": [
        "data.index"
      ],
      "execution_count": 0,
      "outputs": []
    },
    {
      "cell_type": "code",
      "metadata": {
        "deletable": true,
        "editable": true,
        "jupyter": {
          "outputs_hidden": false
        },
        "id": "BECD20-teipJ",
        "colab_type": "code",
        "colab": {}
      },
      "source": [
        "transform = lambda x: x[:4].upper()"
      ],
      "execution_count": 0,
      "outputs": []
    },
    {
      "cell_type": "code",
      "metadata": {
        "id": "mKPKyBAVeipM",
        "colab_type": "code",
        "colab": {}
      },
      "source": [
        "data.index.map(transform)"
      ],
      "execution_count": 0,
      "outputs": []
    },
    {
      "cell_type": "markdown",
      "metadata": {
        "id": "huooVyOZeipO",
        "colab_type": "text"
      },
      "source": [
        "- You can assign to index, modifying the DataFrame in-place:"
      ]
    },
    {
      "cell_type": "code",
      "metadata": {
        "deletable": true,
        "editable": true,
        "jupyter": {
          "outputs_hidden": false
        },
        "id": "WPEPWyKUeipO",
        "colab_type": "code",
        "colab": {}
      },
      "source": [
        "data.index = data.index.map(transform)\n",
        "data"
      ],
      "execution_count": 0,
      "outputs": []
    },
    {
      "cell_type": "markdown",
      "metadata": {
        "id": "f0xpSyd-eipR",
        "colab_type": "text"
      },
      "source": [
        "To create a transformed version of a dataset without modifying the original, a useful method is `rename`:"
      ]
    },
    {
      "cell_type": "code",
      "metadata": {
        "deletable": true,
        "editable": true,
        "jupyter": {
          "outputs_hidden": false
        },
        "id": "z-gRJLAYeipS",
        "colab_type": "code",
        "colab": {}
      },
      "source": [
        "data.rename(index=str.title, columns=str.upper)"
      ],
      "execution_count": 0,
      "outputs": []
    },
    {
      "cell_type": "code",
      "metadata": {
        "deletable": true,
        "editable": true,
        "jupyter": {
          "outputs_hidden": false
        },
        "id": "aMkr70qKeipW",
        "colab_type": "code",
        "colab": {}
      },
      "source": [
        "data.rename(index={'OHIO': 'INDIANA'},\n",
        "            columns={'three': 'peekaboo'})"
      ],
      "execution_count": 0,
      "outputs": []
    },
    {
      "cell_type": "markdown",
      "metadata": {
        "id": "5sc3Hj_JeipZ",
        "colab_type": "text"
      },
      "source": [
        "- `rename` saves you from the chore of copying the DataFrame manually and assigning to its index and columns attributes. \n",
        "- Should you wish to modify a dataset in-place, pass `inplace=True`."
      ]
    },
    {
      "cell_type": "code",
      "metadata": {
        "id": "QCgWOStreipa",
        "colab_type": "code",
        "colab": {}
      },
      "source": [
        "data"
      ],
      "execution_count": 0,
      "outputs": []
    },
    {
      "cell_type": "code",
      "metadata": {
        "deletable": true,
        "editable": true,
        "jupyter": {
          "outputs_hidden": false
        },
        "id": "qZuDYMRMeipd",
        "colab_type": "code",
        "colab": {}
      },
      "source": [
        "data.rename(index={'OHIO': 'INDIANA'}, inplace=True)\n",
        "data"
      ],
      "execution_count": 0,
      "outputs": []
    },
    {
      "cell_type": "markdown",
      "metadata": {
        "deletable": true,
        "editable": true,
        "id": "IdN_kdMeeipg",
        "colab_type": "text"
      },
      "source": [
        "### Discretization and Binning\n",
        "- Continuous data is often discretized or otherwise separated into “bins” for analysis."
      ]
    },
    {
      "cell_type": "code",
      "metadata": {
        "deletable": true,
        "editable": true,
        "jupyter": {
          "outputs_hidden": false
        },
        "id": "BU5qLC1geipg",
        "colab_type": "code",
        "colab": {}
      },
      "source": [
        "ages = [20, 22, 25, 27, 21, 23, 37, 31, 61, 45, 41, 32]"
      ],
      "execution_count": 0,
      "outputs": []
    },
    {
      "cell_type": "code",
      "metadata": {
        "deletable": true,
        "editable": true,
        "jupyter": {
          "outputs_hidden": false
        },
        "id": "cVp5cEsPeipj",
        "colab_type": "code",
        "colab": {}
      },
      "source": [
        "bins = [18, 25, 35, 60, 100]"
      ],
      "execution_count": 0,
      "outputs": []
    },
    {
      "cell_type": "code",
      "metadata": {
        "id": "SwTOc01_eipl",
        "colab_type": "code",
        "colab": {}
      },
      "source": [
        "cats = pd.cut(ages, bins)\n",
        "cats"
      ],
      "execution_count": 0,
      "outputs": []
    },
    {
      "cell_type": "markdown",
      "metadata": {
        "id": "6Xqx6BqOeipo",
        "colab_type": "text"
      },
      "source": [
        "- The object pandas returns is a special `Categorical` object.\n",
        "- You can treat it like an array of strings indicating the bin name; internally it contains a `categories` array specifying the distinct category names along with a labeling for the `ages` data in the codes attribute."
      ]
    },
    {
      "cell_type": "code",
      "metadata": {
        "deletable": true,
        "editable": true,
        "jupyter": {
          "outputs_hidden": false
        },
        "id": "iJ4DL7maeipp",
        "colab_type": "code",
        "colab": {}
      },
      "source": [
        "cats.codes"
      ],
      "execution_count": 0,
      "outputs": []
    },
    {
      "cell_type": "code",
      "metadata": {
        "id": "9i1hvEPpeipr",
        "colab_type": "code",
        "colab": {}
      },
      "source": [
        "cats.categories"
      ],
      "execution_count": 0,
      "outputs": []
    },
    {
      "cell_type": "markdown",
      "metadata": {
        "id": "4iu5YViIeipw",
        "colab_type": "text"
      },
      "source": [
        "- `pd.value_counts()` gives bin counts for the result of `pandas.cut`"
      ]
    },
    {
      "cell_type": "code",
      "metadata": {
        "id": "qSANKR7Ieipx",
        "colab_type": "code",
        "colab": {}
      },
      "source": [
        "pd.value_counts(cats)"
      ],
      "execution_count": 0,
      "outputs": []
    },
    {
      "cell_type": "code",
      "metadata": {
        "id": "DbRXITCCeip0",
        "colab_type": "code",
        "colab": {}
      },
      "source": [
        "pd.value_counts(pd.cut(ages, bins))"
      ],
      "execution_count": 0,
      "outputs": []
    },
    {
      "cell_type": "markdown",
      "metadata": {
        "id": "ADbaPZaAeip5",
        "colab_type": "text"
      },
      "source": [
        "- Consistent with mathematical notation for intervals, a parenthesis means that the side is _open_, while the square bracket means it is _closed_ (inclusive). \n",
        "- You can change which side is closed by passing `right=False`."
      ]
    },
    {
      "cell_type": "code",
      "metadata": {
        "deletable": true,
        "editable": true,
        "jupyter": {
          "outputs_hidden": false
        },
        "id": "cxuPNb7Meip6",
        "colab_type": "code",
        "colab": {}
      },
      "source": [
        "pd.cut(ages, [18, 26, 36, 61, 100], right=False)"
      ],
      "execution_count": 0,
      "outputs": []
    },
    {
      "cell_type": "markdown",
      "metadata": {
        "id": "OA6OBwkieip8",
        "colab_type": "text"
      },
      "source": [
        "- You can also pass your own bin names by passing a list or array to the `labels` option:"
      ]
    },
    {
      "cell_type": "code",
      "metadata": {
        "deletable": true,
        "editable": true,
        "jupyter": {
          "outputs_hidden": false
        },
        "id": "g2rxz_dUeip-",
        "colab_type": "code",
        "colab": {}
      },
      "source": [
        "group_names = ['Youth', 'YoungAdult', 'MiddleAged', 'Senior']\n",
        "pd.cut(ages, bins, labels=group_names)"
      ],
      "execution_count": 0,
      "outputs": []
    },
    {
      "cell_type": "markdown",
      "metadata": {
        "id": "dxG9Y2hNeiqA",
        "colab_type": "text"
      },
      "source": [
        "- If you pass an integer number of bins to `cut` instead of explicit bin edges, it will compute equal-length bins based on the minimum and maximum values in the data."
      ]
    },
    {
      "cell_type": "code",
      "metadata": {
        "deletable": true,
        "editable": true,
        "jupyter": {
          "outputs_hidden": false
        },
        "id": "b0Ewwil6eiqB",
        "colab_type": "code",
        "colab": {}
      },
      "source": [
        "data = np.random.rand(20)\n",
        "pd.cut(data, 4, precision=2) # precision=2 option limits the decimal precision to two digits."
      ],
      "execution_count": 0,
      "outputs": []
    },
    {
      "cell_type": "markdown",
      "metadata": {
        "id": "0forCJrheiqD",
        "colab_type": "text"
      },
      "source": [
        "- `qcut` function bins the data based on sample quantiles.\n",
        "- Depending on the distribution of the data, using `cut` will not usually result in each bin having the same number of data points.\n",
        "- Since `qcut` uses sample quantiles instead, by definition you will obtain roughly equal-size bins."
      ]
    },
    {
      "cell_type": "code",
      "metadata": {
        "deletable": true,
        "editable": true,
        "jupyter": {
          "outputs_hidden": false
        },
        "id": "W0mmH95aeiqT",
        "colab_type": "code",
        "colab": {}
      },
      "source": [
        "data = np.random.randn(1000)  # Normally distributed\n",
        "cats = pd.qcut(data, 4, precision=2)  # Cut into quartiles\n",
        "cats"
      ],
      "execution_count": 0,
      "outputs": []
    },
    {
      "cell_type": "code",
      "metadata": {
        "id": "1u6V1O6SeiqW",
        "colab_type": "code",
        "colab": {}
      },
      "source": [
        "pd.value_counts(cats)"
      ],
      "execution_count": 0,
      "outputs": []
    },
    {
      "cell_type": "code",
      "metadata": {
        "id": "s1hdOxJjeiqY",
        "colab_type": "code",
        "colab": {}
      },
      "source": [
        "pd.value_counts(pd.cut(data, 4, precision=2)) # compare cut to qcut"
      ],
      "execution_count": 0,
      "outputs": []
    },
    {
      "cell_type": "markdown",
      "metadata": {
        "id": "N7DrFAzQeiqa",
        "colab_type": "text"
      },
      "source": [
        "- Similar to `cut` you can pass your own quantiles (numbers between 0 and 1, inclusive):"
      ]
    },
    {
      "cell_type": "code",
      "metadata": {
        "deletable": true,
        "editable": true,
        "jupyter": {
          "outputs_hidden": false
        },
        "id": "N5BRPTpceiqb",
        "colab_type": "code",
        "colab": {}
      },
      "source": [
        "pd.qcut(data, [0, 0.1, 0.5, 0.9, 1.], precision=2)"
      ],
      "execution_count": 0,
      "outputs": []
    },
    {
      "cell_type": "code",
      "metadata": {
        "id": "bjdLK8Opeiqe",
        "colab_type": "code",
        "colab": {}
      },
      "source": [
        "pd.value_counts(pd.qcut(data, [0, 0.1, 0.5, 0.9, 1.], precision=2))"
      ],
      "execution_count": 0,
      "outputs": []
    },
    {
      "cell_type": "markdown",
      "metadata": {
        "deletable": true,
        "editable": true,
        "id": "oASqftWveiqh",
        "colab_type": "text"
      },
      "source": [
        "### Detecting and Filtering Outliers\n",
        "- Filtering or transforming outliers is largely a matter of applying array operations."
      ]
    },
    {
      "cell_type": "code",
      "metadata": {
        "deletable": true,
        "editable": true,
        "jupyter": {
          "outputs_hidden": false
        },
        "id": "4u5x1kT0eiqi",
        "colab_type": "code",
        "colab": {}
      },
      "source": [
        "data = pd.DataFrame(np.random.randn(1000, 4))\n",
        "data.head()"
      ],
      "execution_count": 0,
      "outputs": []
    },
    {
      "cell_type": "code",
      "metadata": {
        "id": "wS_gZ-m4eiql",
        "colab_type": "code",
        "colab": {}
      },
      "source": [
        "data.describe()   # use data.describe().round(x) for rounding off each value in the dataframe to x decimal places."
      ],
      "execution_count": 0,
      "outputs": []
    },
    {
      "cell_type": "markdown",
      "metadata": {
        "id": "dIkZzcBweiqn",
        "colab_type": "text"
      },
      "source": [
        "Demo: Suppose you wanted to find values in one of the columns exceeding 3 in absolute value."
      ]
    },
    {
      "cell_type": "code",
      "metadata": {
        "deletable": true,
        "editable": true,
        "jupyter": {
          "outputs_hidden": false
        },
        "id": "VeyMt2emeiqo",
        "colab_type": "code",
        "colab": {}
      },
      "source": [
        "col = data[2]"
      ],
      "execution_count": 0,
      "outputs": []
    },
    {
      "cell_type": "code",
      "metadata": {
        "id": "3Vy4ad26eiqr",
        "colab_type": "code",
        "colab": {}
      },
      "source": [
        "col[np.abs(col) > 3]"
      ],
      "execution_count": 0,
      "outputs": []
    },
    {
      "cell_type": "markdown",
      "metadata": {
        "id": "zfFjDjxueiqt",
        "colab_type": "text"
      },
      "source": [
        "To select all rows having a value exceeding 3 or –3, you can use the [`any`](https://pandas.pydata.org/pandas-docs/stable/reference/api/pandas.DataFrame.any.html#pandas.DataFrame.any) method on a boolean DataFrame:"
      ]
    },
    {
      "cell_type": "code",
      "metadata": {
        "deletable": true,
        "editable": true,
        "jupyter": {
          "outputs_hidden": false
        },
        "id": "nBMS69XSeiqu",
        "colab_type": "code",
        "colab": {}
      },
      "source": [
        "data[(np.abs(data) > 3).any(axis=1)]"
      ],
      "execution_count": 0,
      "outputs": []
    },
    {
      "cell_type": "markdown",
      "metadata": {
        "id": "4nuYc9naeiqy",
        "colab_type": "text"
      },
      "source": [
        "Values can be set based on these criteria. For example, to cap values outside the interval –3 to 3:"
      ]
    },
    {
      "cell_type": "code",
      "metadata": {
        "deletable": true,
        "editable": true,
        "jupyter": {
          "outputs_hidden": false
        },
        "id": "okcX_6Hheiqz",
        "colab_type": "code",
        "colab": {}
      },
      "source": [
        "data[np.abs(data) > 3] = np.sign(data) * 3"
      ],
      "execution_count": 0,
      "outputs": []
    },
    {
      "cell_type": "code",
      "metadata": {
        "id": "I_5boXs6eiq0",
        "colab_type": "code",
        "colab": {}
      },
      "source": [
        "data.describe()"
      ],
      "execution_count": 0,
      "outputs": []
    },
    {
      "cell_type": "markdown",
      "metadata": {
        "id": "kxhxEa8geiq3",
        "colab_type": "text"
      },
      "source": [
        "- The statement `np.sign(data)` produces 1 and –1 values based on whether the values in data are positive or negative. **Documentation link for [`np.sign()`](https://docs.scipy.org/doc/numpy/reference/generated/numpy.sign.html)**"
      ]
    },
    {
      "cell_type": "code",
      "metadata": {
        "deletable": true,
        "editable": true,
        "jupyter": {
          "outputs_hidden": false
        },
        "id": "QElB-UhDeiq4",
        "colab_type": "code",
        "colab": {}
      },
      "source": [
        "np.sign(data).head()"
      ],
      "execution_count": 0,
      "outputs": []
    },
    {
      "cell_type": "markdown",
      "metadata": {
        "deletable": true,
        "editable": true,
        "id": "3OcX4R9Keiq7",
        "colab_type": "text"
      },
      "source": [
        "### Permutation and Random Sampling"
      ]
    },
    {
      "cell_type": "markdown",
      "metadata": {
        "id": "Crw3cEr3eiq7",
        "colab_type": "text"
      },
      "source": [
        "- Permuting (randomly reordering) a Series or the rows in a DataFrame is easy to do using the `numpy.random.permutation` function. **Documentation link for [`np.random.permutation()`](https://docs.scipy.org/doc/numpy-1.15.0/reference/generated/numpy.random.permutation.html)**\n",
        "- Calling `permutation` with the length of the axis you want to permute produces an array of integers indicating the new ordering."
      ]
    },
    {
      "cell_type": "code",
      "metadata": {
        "deletable": true,
        "editable": true,
        "jupyter": {
          "outputs_hidden": false
        },
        "id": "D_MAy9Ageiq8",
        "colab_type": "code",
        "colab": {}
      },
      "source": [
        "df = pd.DataFrame(np.arange(5 * 4).reshape((5, 4)))\n",
        "df"
      ],
      "execution_count": 0,
      "outputs": []
    },
    {
      "cell_type": "code",
      "metadata": {
        "id": "m2IOsOjMeiq_",
        "colab_type": "code",
        "colab": {}
      },
      "source": [
        "sampler = np.random.permutation(5)\n",
        "sampler"
      ],
      "execution_count": 0,
      "outputs": []
    },
    {
      "cell_type": "code",
      "metadata": {
        "deletable": true,
        "editable": true,
        "jupyter": {
          "outputs_hidden": false
        },
        "id": "UXLGFXlleirC",
        "colab_type": "code",
        "colab": {}
      },
      "source": [
        "df"
      ],
      "execution_count": 0,
      "outputs": []
    },
    {
      "cell_type": "markdown",
      "metadata": {
        "id": "b8WoGqDOeirF",
        "colab_type": "text"
      },
      "source": [
        "- **Documentation link for [`df.take()`](https://pandas.pydata.org/pandas-docs/stable/reference/api/pandas.DataFrame.take.html)**"
      ]
    },
    {
      "cell_type": "code",
      "metadata": {
        "id": "_s_9ZHgTeirF",
        "colab_type": "code",
        "colab": {}
      },
      "source": [
        "df.take(sampler)"
      ],
      "execution_count": 0,
      "outputs": []
    },
    {
      "cell_type": "markdown",
      "metadata": {
        "id": "hYxuZNDweirI",
        "colab_type": "text"
      },
      "source": [
        "- To select a random subset without replacement, you can use the `sample` method on Series and DataFrame. \n",
        "- **Documentation link for [`df.sample()`](https://pandas.pydata.org/pandas-docs/stable/reference/api/pandas.DataFrame.sample.html)**"
      ]
    },
    {
      "cell_type": "code",
      "metadata": {
        "deletable": true,
        "editable": true,
        "jupyter": {
          "outputs_hidden": false
        },
        "id": "w-TZYR8teirI",
        "colab_type": "code",
        "colab": {}
      },
      "source": [
        "df.sample(n=3)"
      ],
      "execution_count": 0,
      "outputs": []
    },
    {
      "cell_type": "markdown",
      "metadata": {
        "id": "dYKLDhHPeirL",
        "colab_type": "text"
      },
      "source": [
        "- To generate a sample *with* replacement (to allow repeat choices), pass `replace=True` to `sample()`."
      ]
    },
    {
      "cell_type": "code",
      "metadata": {
        "deletable": true,
        "editable": true,
        "jupyter": {
          "outputs_hidden": false
        },
        "id": "_o3KDDvNeirM",
        "colab_type": "code",
        "colab": {}
      },
      "source": [
        "choices = pd.Series([5, 7, -1, 6, 4])\n",
        "draws = choices.sample(n=10, replace=True)\n",
        "draws"
      ],
      "execution_count": 0,
      "outputs": []
    },
    {
      "cell_type": "markdown",
      "metadata": {
        "deletable": true,
        "editable": true,
        "id": "NrNKD4rAeirN",
        "colab_type": "text"
      },
      "source": [
        "### Computing Indicator/Dummy Variables\n",
        "\n",
        "- Another type of transformation for statistical modeling or machine learning applications is converting a categorical variable into a “dummy” or “indicator” matrix. \n",
        "- If a column in a DataFrame has `k` distinct values, you would derive a matrix or DataFrame with `k` columns containing all 1s and 0s. \n",
        "- pandas has a `get_dummies` function for doing this, though devising one yourself is not difficult. \n",
        "- **Documentation link for [`pd.get_dummies()`](https://pandas.pydata.org/pandas-docs/stable/reference/api/pandas.get_dummies.html)**"
      ]
    },
    {
      "cell_type": "code",
      "metadata": {
        "deletable": true,
        "editable": true,
        "jupyter": {
          "outputs_hidden": false
        },
        "id": "PDzszZmDeirO",
        "colab_type": "code",
        "colab": {}
      },
      "source": [
        "df = pd.DataFrame({'key': ['b', 'b', 'a', 'c', 'a', 'b'],\n",
        "                   'data1': range(6)})\n",
        "pd.get_dummies(df['key'])"
      ],
      "execution_count": 0,
      "outputs": []
    },
    {
      "cell_type": "markdown",
      "metadata": {
        "id": "FEAmCn7veirR",
        "colab_type": "text"
      },
      "source": [
        "- To add a prefix to the columns in the indicator DataFrame, pass the `prefix` argument to the `get_dummies()` function."
      ]
    },
    {
      "cell_type": "code",
      "metadata": {
        "id": "iPdcT2FBeirR",
        "colab_type": "code",
        "colab": {}
      },
      "source": [
        "dummies = pd.get_dummies(df['key'], prefix='key')\n",
        "dummies"
      ],
      "execution_count": 0,
      "outputs": []
    },
    {
      "cell_type": "code",
      "metadata": {
        "deletable": true,
        "editable": true,
        "jupyter": {
          "outputs_hidden": false
        },
        "id": "HanTRwCEeirT",
        "colab_type": "code",
        "colab": {}
      },
      "source": [
        "df_with_dummy = df[['data1']].join(dummies)\n",
        "df_with_dummy"
      ],
      "execution_count": 0,
      "outputs": []
    },
    {
      "cell_type": "markdown",
      "metadata": {
        "id": "0EnVRWA_eirW",
        "colab_type": "text"
      },
      "source": [
        "To create dummies if a row in a DataFrame belongs to multiple categories:"
      ]
    },
    {
      "cell_type": "code",
      "metadata": {
        "deletable": true,
        "editable": true,
        "jupyter": {
          "outputs_hidden": false
        },
        "id": "sRNkjrtWeirX",
        "colab_type": "code",
        "colab": {}
      },
      "source": [
        "mnames = ['movie_id', 'title', 'genres']\n",
        "movies = pd.read_table('pydata-book-2nd-edition/datasets/movielens/movies.dat', sep='::',\n",
        "                       header=None, names=mnames, engine='python')\n",
        "type(movies)"
      ],
      "execution_count": 0,
      "outputs": []
    },
    {
      "cell_type": "code",
      "metadata": {
        "id": "VuYSpG57eira",
        "colab_type": "code",
        "colab": {}
      },
      "source": [
        "movies[:10]"
      ],
      "execution_count": 0,
      "outputs": []
    },
    {
      "cell_type": "markdown",
      "metadata": {
        "id": "ajpyfWHaeirb",
        "colab_type": "text"
      },
      "source": [
        "Adding indicator variables for each genre requires a little bit of wrangling. \n",
        "\n",
        "First, we extract the list of unique genres in the dataset:"
      ]
    },
    {
      "cell_type": "code",
      "metadata": {
        "deletable": true,
        "editable": true,
        "jupyter": {
          "outputs_hidden": false
        },
        "id": "vS1wa1YZeirc",
        "colab_type": "code",
        "colab": {}
      },
      "source": [
        "all_genres = []\n",
        "\n",
        "for x in movies.genres:\n",
        "    all_genres.extend(x.split('|'))"
      ],
      "execution_count": 0,
      "outputs": []
    },
    {
      "cell_type": "code",
      "metadata": {
        "id": "m8uHMH2heirf",
        "colab_type": "code",
        "colab": {}
      },
      "source": [
        "genres = pd.unique(all_genres)\n",
        "genres"
      ],
      "execution_count": 0,
      "outputs": []
    },
    {
      "cell_type": "markdown",
      "metadata": {
        "id": "vN30nQ1qeirg",
        "colab_type": "text"
      },
      "source": [
        "Next, start with a DataFrame of all zeros"
      ]
    },
    {
      "cell_type": "code",
      "metadata": {
        "id": "1pK5HE6neiri",
        "colab_type": "code",
        "colab": {}
      },
      "source": [
        "len(movies)"
      ],
      "execution_count": 0,
      "outputs": []
    },
    {
      "cell_type": "code",
      "metadata": {
        "id": "ZDENkUqveirj",
        "colab_type": "code",
        "colab": {}
      },
      "source": [
        "len(genres)"
      ],
      "execution_count": 0,
      "outputs": []
    },
    {
      "cell_type": "code",
      "metadata": {
        "id": "xMwOkENdeirm",
        "colab_type": "code",
        "colab": {}
      },
      "source": [
        "movies.shape"
      ],
      "execution_count": 0,
      "outputs": []
    },
    {
      "cell_type": "code",
      "metadata": {
        "id": "xQJmz8N9eiro",
        "colab_type": "code",
        "colab": {}
      },
      "source": [
        "movies.shape[0]"
      ],
      "execution_count": 0,
      "outputs": []
    },
    {
      "cell_type": "code",
      "metadata": {
        "deletable": true,
        "editable": true,
        "jupyter": {
          "outputs_hidden": false
        },
        "id": "tO6FXAfIeirq",
        "colab_type": "code",
        "colab": {}
      },
      "source": [
        "zero_matrix = np.zeros((len(movies), len(genres)))\n",
        "zero_matrix"
      ],
      "execution_count": 0,
      "outputs": []
    },
    {
      "cell_type": "code",
      "metadata": {
        "id": "NbLaQIBKeiru",
        "colab_type": "code",
        "colab": {}
      },
      "source": [
        "dummies = pd.DataFrame(zero_matrix, columns=genres)\n",
        "dummies"
      ],
      "execution_count": 0,
      "outputs": []
    },
    {
      "cell_type": "markdown",
      "metadata": {
        "id": "RWlSJ7Breirx",
        "colab_type": "text"
      },
      "source": [
        "Iterate through each movie and set entries in each row of dummies to 1. Use the `dummies.columns` to compute the column indices for each genre."
      ]
    },
    {
      "cell_type": "code",
      "metadata": {
        "deletable": true,
        "editable": true,
        "jupyter": {
          "outputs_hidden": false
        },
        "id": "NmkHFZ2eeiry",
        "colab_type": "code",
        "colab": {}
      },
      "source": [
        "gen = movies.genres[1]\n",
        "gen"
      ],
      "execution_count": 0,
      "outputs": []
    },
    {
      "cell_type": "code",
      "metadata": {
        "id": "1yud8yMPeir1",
        "colab_type": "code",
        "colab": {}
      },
      "source": [
        "gen.split('|')"
      ],
      "execution_count": 0,
      "outputs": []
    },
    {
      "cell_type": "markdown",
      "metadata": {
        "id": "afXwo3Rneir3",
        "colab_type": "text"
      },
      "source": [
        "- **Documentation link for [`pd.Index.get_indexer()`](https://pandas.pydata.org/pandas-docs/stable/reference/api/pandas.Index.get_indexer.html)**"
      ]
    },
    {
      "cell_type": "code",
      "metadata": {
        "id": "ghBQOkH4eir4",
        "colab_type": "code",
        "colab": {}
      },
      "source": [
        "type(dummies.columns)"
      ],
      "execution_count": 0,
      "outputs": []
    },
    {
      "cell_type": "code",
      "metadata": {
        "id": "hLFXqoLXeir6",
        "colab_type": "code",
        "colab": {}
      },
      "source": [
        "dummies.columns.get_indexer(gen.split('|'))"
      ],
      "execution_count": 0,
      "outputs": []
    },
    {
      "cell_type": "code",
      "metadata": {
        "deletable": true,
        "editable": true,
        "jupyter": {
          "outputs_hidden": false
        },
        "id": "tRuq2Hheeir8",
        "colab_type": "code",
        "colab": {}
      },
      "source": [
        "for i, gen in enumerate(movies.genres):\n",
        "    indices = dummies.columns.get_indexer(gen.split('|'))\n",
        "    dummies.iloc[i, indices] = 1"
      ],
      "execution_count": 0,
      "outputs": []
    },
    {
      "cell_type": "code",
      "metadata": {
        "id": "r2TfrHGOeir-",
        "colab_type": "code",
        "colab": {}
      },
      "source": [
        "dummies.head()"
      ],
      "execution_count": 0,
      "outputs": []
    },
    {
      "cell_type": "code",
      "metadata": {
        "deletable": true,
        "editable": true,
        "jupyter": {
          "outputs_hidden": false
        },
        "id": "UNyOQeX0eisB",
        "colab_type": "code",
        "colab": {}
      },
      "source": [
        "movies_windic = movies.join(dummies.add_prefix('Genre_'))"
      ],
      "execution_count": 0,
      "outputs": []
    },
    {
      "cell_type": "code",
      "metadata": {
        "id": "qlwKaKrLeisC",
        "colab_type": "code",
        "colab": {}
      },
      "source": [
        "movies_windic.iloc[0:5]"
      ],
      "execution_count": 0,
      "outputs": []
    },
    {
      "cell_type": "markdown",
      "metadata": {
        "id": "5XK4iFEreisF",
        "colab_type": "text"
      },
      "source": [
        "Typical recipe for statistical applications is to combine `get_dummies` with a discretization function like `cut`."
      ]
    },
    {
      "cell_type": "code",
      "metadata": {
        "deletable": true,
        "editable": true,
        "jupyter": {
          "outputs_hidden": false
        },
        "id": "hotqKk07eisG",
        "colab_type": "code",
        "colab": {}
      },
      "source": [
        "np.random.seed(12345)\n",
        "values = np.random.rand(10)\n",
        "values"
      ],
      "execution_count": 0,
      "outputs": []
    },
    {
      "cell_type": "code",
      "metadata": {
        "id": "dEhju2WieisJ",
        "colab_type": "code",
        "colab": {}
      },
      "source": [
        "bins = [0, 0.2, 0.4, 0.6, 0.8, 1]\n",
        "bins"
      ],
      "execution_count": 0,
      "outputs": []
    },
    {
      "cell_type": "code",
      "metadata": {
        "id": "60Hx0oCIeisZ",
        "colab_type": "code",
        "colab": {}
      },
      "source": [
        "pd.cut(values, bins)"
      ],
      "execution_count": 0,
      "outputs": []
    },
    {
      "cell_type": "code",
      "metadata": {
        "id": "GL693M3keisb",
        "colab_type": "code",
        "colab": {}
      },
      "source": [
        "pd.get_dummies(pd.cut(values, bins))"
      ],
      "execution_count": 0,
      "outputs": []
    },
    {
      "cell_type": "markdown",
      "metadata": {
        "deletable": true,
        "editable": true,
        "id": "uJMjWsBHeise",
        "colab_type": "text"
      },
      "source": [
        "## 7.3 String Manipulation"
      ]
    },
    {
      "cell_type": "markdown",
      "metadata": {
        "deletable": true,
        "editable": true,
        "id": "C5_QP17geise",
        "colab_type": "text"
      },
      "source": [
        "### String Object Methods\n",
        "\n",
        "- In many string munging and scripting applications, built-in string methods are sufficient. See **documentation for [Python string methods](https://docs.python.org/3/library/stdtypes.html#string-methods)**."
      ]
    },
    {
      "cell_type": "code",
      "metadata": {
        "deletable": true,
        "editable": true,
        "jupyter": {
          "outputs_hidden": false
        },
        "id": "IjsznHq1eisf",
        "colab_type": "code",
        "colab": {}
      },
      "source": [
        "val = 'a,b,  guido'\n",
        "val.split(',')"
      ],
      "execution_count": 0,
      "outputs": []
    },
    {
      "cell_type": "code",
      "metadata": {
        "deletable": true,
        "editable": true,
        "jupyter": {
          "outputs_hidden": false
        },
        "id": "y2JuilSVeisg",
        "colab_type": "code",
        "colab": {}
      },
      "source": [
        "pieces = [x.strip() for x in val.split(',')]\n",
        "pieces"
      ],
      "execution_count": 0,
      "outputs": []
    },
    {
      "cell_type": "code",
      "metadata": {
        "deletable": true,
        "editable": true,
        "jupyter": {
          "outputs_hidden": false
        },
        "id": "mV1SeKaaeisj",
        "colab_type": "code",
        "colab": {}
      },
      "source": [
        "first, second, third = pieces\n",
        "first + '::' + second + '::' + third"
      ],
      "execution_count": 0,
      "outputs": []
    },
    {
      "cell_type": "markdown",
      "metadata": {
        "id": "_zwaxvhweism",
        "colab_type": "text"
      },
      "source": [
        "A faster and more Pythonic way is to pass a list or tuple to the join method on the string '::'."
      ]
    },
    {
      "cell_type": "code",
      "metadata": {
        "deletable": true,
        "editable": true,
        "jupyter": {
          "outputs_hidden": false
        },
        "id": "a3Gi-jldeisn",
        "colab_type": "code",
        "colab": {}
      },
      "source": [
        "'::'.join(pieces)"
      ],
      "execution_count": 0,
      "outputs": []
    },
    {
      "cell_type": "markdown",
      "metadata": {
        "id": "5fpo9t3_eisq",
        "colab_type": "text"
      },
      "source": [
        "- Other methods are concerned with locating substrings. \n",
        "- Using Python’s `in` keyword is the best way to detect a substring, though `index` and `find` can also be used."
      ]
    },
    {
      "cell_type": "code",
      "metadata": {
        "deletable": true,
        "editable": true,
        "jupyter": {
          "outputs_hidden": false
        },
        "id": "St6zk5gveiss",
        "colab_type": "code",
        "colab": {}
      },
      "source": [
        "'guido' in val"
      ],
      "execution_count": 0,
      "outputs": []
    },
    {
      "cell_type": "code",
      "metadata": {
        "id": "3XDOuU2teisw",
        "colab_type": "code",
        "colab": {}
      },
      "source": [
        "val.index(',')"
      ],
      "execution_count": 0,
      "outputs": []
    },
    {
      "cell_type": "code",
      "metadata": {
        "id": "_uEy5X0Oeisx",
        "colab_type": "code",
        "colab": {}
      },
      "source": [
        "val.find(':')"
      ],
      "execution_count": 0,
      "outputs": []
    },
    {
      "cell_type": "markdown",
      "metadata": {
        "id": "UvB209uYeisz",
        "colab_type": "text"
      },
      "source": [
        "_Note the difference between `find` and `index` is that `index` raises an exception if the string isn’t found (versus returning –1)_"
      ]
    },
    {
      "cell_type": "code",
      "metadata": {
        "deletable": true,
        "editable": true,
        "jupyter": {
          "outputs_hidden": false
        },
        "id": "MSzCNLszeis1",
        "colab_type": "code",
        "colab": {}
      },
      "source": [
        "#val.index(':')"
      ],
      "execution_count": 0,
      "outputs": []
    },
    {
      "cell_type": "markdown",
      "metadata": {
        "id": "H6ifzks4eis2",
        "colab_type": "text"
      },
      "source": [
        "Relatedly, `count` returns the number of occurrences of a particular substring:"
      ]
    },
    {
      "cell_type": "code",
      "metadata": {
        "deletable": true,
        "editable": true,
        "jupyter": {
          "outputs_hidden": false
        },
        "id": "ptnwSqJueis3",
        "colab_type": "code",
        "colab": {}
      },
      "source": [
        "val.count(',')"
      ],
      "execution_count": 0,
      "outputs": []
    },
    {
      "cell_type": "markdown",
      "metadata": {
        "id": "ZiT5Jv7Beis5",
        "colab_type": "text"
      },
      "source": [
        "`replace` is used to substitute occurrences of one pattern for another."
      ]
    },
    {
      "cell_type": "code",
      "metadata": {
        "deletable": true,
        "editable": true,
        "jupyter": {
          "outputs_hidden": false
        },
        "id": "ojOnROuzeis6",
        "colab_type": "code",
        "colab": {}
      },
      "source": [
        "val.replace(',', '::')"
      ],
      "execution_count": 0,
      "outputs": []
    },
    {
      "cell_type": "markdown",
      "metadata": {
        "id": "w9WUYOcBeis8",
        "colab_type": "text"
      },
      "source": [
        "`replace` is commonly used to delete patterns, too, by passing an empty string:"
      ]
    },
    {
      "cell_type": "code",
      "metadata": {
        "id": "DHBGCK7Reis8",
        "colab_type": "code",
        "colab": {}
      },
      "source": [
        "val.replace(',', '')"
      ],
      "execution_count": 0,
      "outputs": []
    },
    {
      "cell_type": "markdown",
      "metadata": {
        "deletable": true,
        "editable": true,
        "id": "au7Cv75qeis_",
        "colab_type": "text"
      },
      "source": [
        "### Regular Expressions"
      ]
    },
    {
      "cell_type": "code",
      "metadata": {
        "deletable": true,
        "editable": true,
        "jupyter": {
          "outputs_hidden": false
        },
        "id": "DLH0jE58eitA",
        "colab_type": "code",
        "colab": {}
      },
      "source": [
        "import re\n",
        "text = \"foo    bar\\t baz  \\tqux\"\n",
        "re.split('\\s+', text)"
      ],
      "execution_count": 0,
      "outputs": []
    },
    {
      "cell_type": "code",
      "metadata": {
        "deletable": true,
        "editable": true,
        "jupyter": {
          "outputs_hidden": false
        },
        "id": "u_HRovoKeitC",
        "colab_type": "code",
        "colab": {}
      },
      "source": [
        "regex = re.compile('\\s+')\n",
        "regex.split(text)"
      ],
      "execution_count": 0,
      "outputs": []
    },
    {
      "cell_type": "code",
      "metadata": {
        "deletable": true,
        "editable": true,
        "jupyter": {
          "outputs_hidden": false
        },
        "id": "rcCSMiZ-eitD",
        "colab_type": "code",
        "colab": {}
      },
      "source": [
        "regex.findall(text)"
      ],
      "execution_count": 0,
      "outputs": []
    },
    {
      "cell_type": "code",
      "metadata": {
        "deletable": true,
        "editable": true,
        "jupyter": {
          "outputs_hidden": false
        },
        "id": "gXO5_vymeitF",
        "colab_type": "code",
        "colab": {}
      },
      "source": [
        "text = \"\"\"Dave dave@google.com\n",
        "Steve steve@gmail.com\n",
        "Rob rob@gmail.com\n",
        "Ryan ryan@yahoo.com\n",
        "\"\"\"\n",
        "pattern = r'[A-Z0-9._%+-]+@[A-Z0-9.-]+\\.[A-Z]{2,4}'\n",
        "\n",
        "# re.IGNORECASE makes the regex case-insensitive\n",
        "regex = re.compile(pattern, flags=re.IGNORECASE)"
      ],
      "execution_count": 0,
      "outputs": []
    },
    {
      "cell_type": "code",
      "metadata": {
        "deletable": true,
        "editable": true,
        "jupyter": {
          "outputs_hidden": false
        },
        "id": "bsirbJR8eitI",
        "colab_type": "code",
        "colab": {}
      },
      "source": [
        "regex.findall(text)"
      ],
      "execution_count": 0,
      "outputs": []
    },
    {
      "cell_type": "code",
      "metadata": {
        "deletable": true,
        "editable": true,
        "jupyter": {
          "outputs_hidden": false
        },
        "id": "wZB5lqGoeitK",
        "colab_type": "code",
        "colab": {}
      },
      "source": [
        "m = regex.search(text)\n",
        "m\n",
        "text[m.start():m.end()]"
      ],
      "execution_count": 0,
      "outputs": []
    },
    {
      "cell_type": "code",
      "metadata": {
        "deletable": true,
        "editable": true,
        "jupyter": {
          "outputs_hidden": false
        },
        "id": "nx9LYqXMeitM",
        "colab_type": "code",
        "colab": {}
      },
      "source": [
        "print(regex.match(text))"
      ],
      "execution_count": 0,
      "outputs": []
    },
    {
      "cell_type": "code",
      "metadata": {
        "deletable": true,
        "editable": true,
        "jupyter": {
          "outputs_hidden": false
        },
        "id": "23yw1xraeitQ",
        "colab_type": "code",
        "colab": {}
      },
      "source": [
        "print(regex.sub('REDACTED', text))"
      ],
      "execution_count": 0,
      "outputs": []
    },
    {
      "cell_type": "code",
      "metadata": {
        "deletable": true,
        "editable": true,
        "jupyter": {
          "outputs_hidden": false
        },
        "id": "5MA3YZopeitT",
        "colab_type": "code",
        "colab": {}
      },
      "source": [
        "pattern = r'([A-Z0-9._%+-]+)@([A-Z0-9.-]+)\\.([A-Z]{2,4})'\n",
        "regex = re.compile(pattern, flags=re.IGNORECASE)"
      ],
      "execution_count": 0,
      "outputs": []
    },
    {
      "cell_type": "code",
      "metadata": {
        "deletable": true,
        "editable": true,
        "jupyter": {
          "outputs_hidden": false
        },
        "id": "8XHgRbbveitV",
        "colab_type": "code",
        "colab": {}
      },
      "source": [
        "m = regex.match('wesm@bright.net')\n",
        "m.groups()"
      ],
      "execution_count": 0,
      "outputs": []
    },
    {
      "cell_type": "code",
      "metadata": {
        "deletable": true,
        "editable": true,
        "jupyter": {
          "outputs_hidden": false
        },
        "id": "NRb8koJoeitW",
        "colab_type": "code",
        "colab": {}
      },
      "source": [
        "regex.findall(text)"
      ],
      "execution_count": 0,
      "outputs": []
    },
    {
      "cell_type": "code",
      "metadata": {
        "deletable": true,
        "editable": true,
        "jupyter": {
          "outputs_hidden": false
        },
        "id": "jgMzY214eitZ",
        "colab_type": "code",
        "colab": {}
      },
      "source": [
        "print(regex.sub(r'Username: \\1, Domain: \\2, Suffix: \\3', text))"
      ],
      "execution_count": 0,
      "outputs": []
    },
    {
      "cell_type": "markdown",
      "metadata": {
        "deletable": true,
        "editable": true,
        "id": "FQoBTrPeeitb",
        "colab_type": "text"
      },
      "source": [
        "### Vectorized String Functions in pandas"
      ]
    },
    {
      "cell_type": "code",
      "metadata": {
        "deletable": true,
        "editable": true,
        "jupyter": {
          "outputs_hidden": false
        },
        "id": "cEgbt0MFeitb",
        "colab_type": "code",
        "colab": {}
      },
      "source": [
        "data = {'Dave': 'dave@google.com', 'Steve': 'steve@gmail.com',\n",
        "        'Rob': 'rob@gmail.com', 'Wes': np.nan}\n",
        "data = pd.Series(data)\n",
        "data\n",
        "data.isnull()"
      ],
      "execution_count": 0,
      "outputs": []
    },
    {
      "cell_type": "code",
      "metadata": {
        "deletable": true,
        "editable": true,
        "jupyter": {
          "outputs_hidden": false
        },
        "id": "gFIVs12seite",
        "colab_type": "code",
        "colab": {}
      },
      "source": [
        "data.str.contains('gmail')"
      ],
      "execution_count": 0,
      "outputs": []
    },
    {
      "cell_type": "code",
      "metadata": {
        "deletable": true,
        "editable": true,
        "jupyter": {
          "outputs_hidden": false
        },
        "id": "o-yPCTSPeitf",
        "colab_type": "code",
        "colab": {}
      },
      "source": [
        "pattern\n",
        "data.str.findall(pattern, flags=re.IGNORECASE)"
      ],
      "execution_count": 0,
      "outputs": []
    },
    {
      "cell_type": "code",
      "metadata": {
        "deletable": true,
        "editable": true,
        "jupyter": {
          "outputs_hidden": false
        },
        "id": "vcV6TSvReith",
        "colab_type": "code",
        "colab": {}
      },
      "source": [
        "matches = data.str.match(pattern, flags=re.IGNORECASE)\n",
        "matches"
      ],
      "execution_count": 0,
      "outputs": []
    },
    {
      "cell_type": "code",
      "metadata": {
        "deletable": true,
        "editable": true,
        "jupyter": {
          "outputs_hidden": false
        },
        "id": "kkSpnyBEeitj",
        "colab_type": "code",
        "colab": {}
      },
      "source": [
        "matches.str.get(1)\n",
        "matches.str[0]"
      ],
      "execution_count": 0,
      "outputs": []
    },
    {
      "cell_type": "code",
      "metadata": {
        "deletable": true,
        "editable": true,
        "jupyter": {
          "outputs_hidden": false
        },
        "id": "k5WEIjs5eitl",
        "colab_type": "code",
        "colab": {}
      },
      "source": [
        "data.str[:5]"
      ],
      "execution_count": 0,
      "outputs": []
    },
    {
      "cell_type": "code",
      "metadata": {
        "deletable": true,
        "editable": true,
        "jupyter": {
          "outputs_hidden": false
        },
        "id": "jL4krQmDeitm",
        "colab_type": "code",
        "colab": {}
      },
      "source": [
        "pd.options.display.max_rows = PREVIOUS_MAX_ROWS"
      ],
      "execution_count": 0,
      "outputs": []
    },
    {
      "cell_type": "markdown",
      "metadata": {
        "deletable": true,
        "editable": true,
        "id": "rjlKBdwJeitp",
        "colab_type": "text"
      },
      "source": [
        "## Conclusion"
      ]
    }
  ]
}